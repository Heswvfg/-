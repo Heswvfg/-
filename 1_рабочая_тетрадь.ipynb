{
  "nbformat": 4,
  "nbformat_minor": 0,
  "metadata": {
    "colab": {
      "provenance": [],
      "authorship_tag": "ABX9TyNaUXwLmD6BJmXi8HFh1WI3",
      "include_colab_link": true
    },
    "kernelspec": {
      "name": "python3",
      "display_name": "Python 3"
    },
    "language_info": {
      "name": "python"
    }
  },
  "cells": [
    {
      "cell_type": "markdown",
      "metadata": {
        "id": "view-in-github",
        "colab_type": "text"
      },
      "source": [
        "<a href=\"https://colab.research.google.com/github/Heswvfg/-/blob/main/1_%D1%80%D0%B0%D0%B1%D0%BE%D1%87%D0%B0%D1%8F_%D1%82%D0%B5%D1%82%D1%80%D0%B0%D0%B4%D1%8C.ipynb\" target=\"_parent\"><img src=\"https://colab.research.google.com/assets/colab-badge.svg\" alt=\"Open In Colab\"/></a>"
      ]
    },
    {
      "cell_type": "markdown",
      "source": [
        "1 задание"
      ],
      "metadata": {
        "id": "A3uyrvGfyrkC"
      }
    },
    {
      "cell_type": "code",
      "execution_count": null,
      "metadata": {
        "id": "gF3n0AJZyaYg"
      },
      "outputs": [],
      "source": [
        "print(\"Громилин Андрей ЭФБО-15-24\")"
      ]
    },
    {
      "cell_type": "markdown",
      "source": [
        "2 задание"
      ],
      "metadata": {
        "id": "4oaL7Uj0yuoS"
      }
    },
    {
      "cell_type": "code",
      "source": [
        "first_num = int(input())\n",
        "second_num = int(input())\n",
        "print(first_num + second_num)"
      ],
      "metadata": {
        "id": "K4DoG3bLyu_C"
      },
      "execution_count": null,
      "outputs": []
    },
    {
      "cell_type": "markdown",
      "source": [
        "3 задание\n"
      ],
      "metadata": {
        "id": "4GIfe2Kayyfj"
      }
    },
    {
      "cell_type": "code",
      "source": [
        "x =int(input())\n",
        "def func(x):\n",
        "    func = x**5 - 2*x**3 + 1\n",
        "    return 0\n",
        "print(func(x))"
      ],
      "metadata": {
        "id": "fbxqSwRgyyzb"
      },
      "execution_count": null,
      "outputs": []
    },
    {
      "cell_type": "markdown",
      "source": [
        "4 задание"
      ],
      "metadata": {
        "id": "PmqYp6Rhy2Xq"
      }
    },
    {
      "cell_type": "code",
      "source": [
        "strange = [[],1]\n",
        "print(type(strange))\n"
      ],
      "metadata": {
        "id": "0H7yDFZcy2px"
      },
      "execution_count": null,
      "outputs": []
    },
    {
      "cell_type": "markdown",
      "source": [
        "5 задание"
      ],
      "metadata": {
        "id": "QXvCB7goy5KC"
      }
    },
    {
      "cell_type": "code",
      "source": [
        "for x in range(2):\n",
        "    for y in range(2):\n",
        "        if ((x or y) and (not(x) or y) and not(x and y)) == 0:\n",
        "            print(x,y)"
      ],
      "metadata": {
        "id": "xEG50oCUy5XC"
      },
      "execution_count": null,
      "outputs": []
    },
    {
      "cell_type": "markdown",
      "source": [
        "6 задание"
      ],
      "metadata": {
        "id": "Q6w6jFLfy9C6"
      }
    },
    {
      "cell_type": "code",
      "source": [
        "a = [1,2,3,4]\n",
        "s = a.reverse()\n",
        "print(a)\n"
      ],
      "metadata": {
        "id": "AP1f7r3hy9TS"
      },
      "execution_count": null,
      "outputs": []
    },
    {
      "cell_type": "markdown",
      "source": [
        "7 задание\n"
      ],
      "metadata": {
        "id": "hkhXQooFzAop"
      }
    },
    {
      "cell_type": "code",
      "source": [
        "from math import *\n",
        "N = int(input())\n",
        "print(log2(N))"
      ],
      "metadata": {
        "id": "DT_5eUBVzALC"
      },
      "execution_count": null,
      "outputs": []
    },
    {
      "cell_type": "markdown",
      "source": [
        "8 задание"
      ],
      "metadata": {
        "id": "Peu1vLgtzDPB"
      }
    },
    {
      "cell_type": "code",
      "source": [
        "from math import *\n",
        "def func(p1,p2):\n",
        "    H1 = -1 * p1 * log(p1,2)\n",
        "    H2 = -1 * p2 * log(p2,2)\n",
        "    return H1 + H2\n",
        "a,b = map(float,input().split())\n",
        "print(round(func(a,b),3))"
      ],
      "metadata": {
        "id": "mLB6IyiGzDeS"
      },
      "execution_count": null,
      "outputs": []
    },
    {
      "cell_type": "markdown",
      "source": [
        "9 задание"
      ],
      "metadata": {
        "id": "3s9WKxctzH4a"
      }
    },
    {
      "cell_type": "code",
      "source": [
        "from math import *\n",
        "def f(x):\n",
        "    return tan((cos(x) * sin(2*x))/(x*e**x))**(log(x,7))\n",
        "print(f(float(input())))"
      ],
      "metadata": {
        "id": "3LYgBW4ZzIKi"
      },
      "execution_count": null,
      "outputs": []
    },
    {
      "cell_type": "markdown",
      "source": [
        "10 задание"
      ],
      "metadata": {
        "id": "-Bib0tbMzLDJ"
      }
    },
    {
      "cell_type": "code",
      "source": [
        "def func(x):\n",
        "    if x.count('1') % 2 == 0:\n",
        "        x += '0'\n",
        "    else:\n",
        "        x += '1'\n",
        "    return x\n",
        "print(func(input()))"
      ],
      "metadata": {
        "id": "7qXNLVPczLTS"
      },
      "execution_count": null,
      "outputs": []
    }
  ]
}