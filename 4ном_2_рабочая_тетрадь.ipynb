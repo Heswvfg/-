{
  "nbformat": 4,
  "nbformat_minor": 0,
  "metadata": {
    "colab": {
      "provenance": [],
      "authorship_tag": "ABX9TyMa6Z407Fb0SWeA/e5vFpYy",
      "include_colab_link": true
    },
    "kernelspec": {
      "name": "python3",
      "display_name": "Python 3"
    },
    "language_info": {
      "name": "python"
    }
  },
  "cells": [
    {
      "cell_type": "markdown",
      "metadata": {
        "id": "view-in-github",
        "colab_type": "text"
      },
      "source": [
        "<a href=\"https://colab.research.google.com/github/Heswvfg/-/blob/main/4%D0%BD%D0%BE%D0%BC_2_%D1%80%D0%B0%D0%B1%D0%BE%D1%87%D0%B0%D1%8F_%D1%82%D0%B5%D1%82%D1%80%D0%B0%D0%B4%D1%8C.ipynb\" target=\"_parent\"><img src=\"https://colab.research.google.com/assets/colab-badge.svg\" alt=\"Open In Colab\"/></a>"
      ]
    },
    {
      "cell_type": "markdown",
      "source": [
        "1 задание"
      ],
      "metadata": {
        "id": "4_ZFgk-q0Nbb"
      }
    },
    {
      "cell_type": "code",
      "execution_count": null,
      "metadata": {
        "id": "nGaBN-By0GX9"
      },
      "outputs": [],
      "source": [
        "print(\"Введите двузначное число\")\n",
        "x = input()\n",
        "if x.count(\"3\") > 0:\n",
        "    print(\"Троiki есть\")\n",
        "else:\n",
        "    print(\"Троek нет\")"
      ]
    },
    {
      "cell_type": "markdown",
      "source": [
        "2 задание\n",
        "\n"
      ],
      "metadata": {
        "id": "3QTQDDoJ0Nvi"
      }
    },
    {
      "cell_type": "code",
      "source": [
        "print(\"Введите двузначное число\")\n",
        "a = int(input())\n",
        "x = 0\n",
        "x = a // 10\n",
        "a %= 10\n",
        "if x > a:\n",
        "    print(\"Первая цифра: \", x , \" Больше чем вторая цифра: \", a)\n",
        "elif a > x:\n",
        "    print(\"Вторая цифра: \",a, \"Больше чем первая \", x)\n",
        "elif a == x:\n",
        "    print(\"Цифры равны.\")\n"
      ],
      "metadata": {
        "id": "ofwtDKxH0OEi"
      },
      "execution_count": null,
      "outputs": []
    },
    {
      "cell_type": "markdown",
      "source": [
        "3 задание"
      ],
      "metadata": {
        "id": "6G1iwR-G0OaC"
      }
    },
    {
      "cell_type": "code",
      "source": [
        "from math import *\n",
        "print(\"Введите 3 коэффицента: a, b, c. Из которых возможно (или нет) найти корни квадратичного уравнения\")\n",
        "a = int(input())\n",
        "b = int(input())\n",
        "c = int(input())\n",
        "x = int()\n",
        "x1 = int()\n",
        "x2 = int()\n",
        "D = float()\n",
        "\n",
        "D = (b**2) - (4 * a * c)\n",
        "\n",
        "if D < 0:\n",
        "    print(\"Нет корней\")\n",
        "elif D == 0:\n",
        "    x = (-b)/(2*a)\n",
        "    print(\"Имеет один корень: \", x)\n",
        "elif D > 0:\n",
        "     x1 = (-b + sqrt(D))/(2 * a)\n",
        "     x2 = (-b - sqrt(D))/(2 * a)\n",
        "     print(\"Уравнение имеет 2 корня x1 = \", x1 , \"x2 = \", x2)\n"
      ],
      "metadata": {
        "id": "JX4Y5Qq40Opi"
      },
      "execution_count": null,
      "outputs": []
    },
    {
      "cell_type": "markdown",
      "source": [
        "4 задание"
      ],
      "metadata": {
        "id": "jE-UxaaK0O_0"
      }
    },
    {
      "cell_type": "code",
      "source": [
        "a = int(input())\n",
        "i = int()\n",
        "x = 0\n",
        "for i in range(2, a):\n",
        "    if x > 0:\n",
        "        break\n",
        "    if a % i == 0:\n",
        "        print(i)\n",
        "        x += 1\n",
        "        break\n",
        ""
      ],
      "metadata": {
        "id": "ukZoahBm0POL"
      },
      "execution_count": null,
      "outputs": []
    },
    {
      "cell_type": "markdown",
      "source": [
        "5 задание"
      ],
      "metadata": {
        "id": "pwpguDUa0PYZ"
      }
    },
    {
      "cell_type": "code",
      "source": [
        "N = int(input())\n",
        "i = 0\n",
        "a = int()\n",
        "for i in range(N):\n",
        "    a += i\n",
        "print(a)\n",
        "\n"
      ],
      "metadata": {
        "id": "9gIfAX6v0Prz"
      },
      "execution_count": null,
      "outputs": []
    },
    {
      "cell_type": "markdown",
      "source": [
        "6 задание"
      ],
      "metadata": {
        "id": "Duv9aizX0P3J"
      }
    },
    {
      "cell_type": "code",
      "source": [
        "a = int(input())\n",
        "x = int()\n",
        "x = 0\n",
        "i = int()\n",
        "for i in range(2,a):\n",
        "    if a % i == 0:\n",
        "        x += 1\n",
        "if x == 0:\n",
        "    print(\"Число является простым\")\n",
        "else:\n",
        "    print(\"Число не является простым\")\n",
        "\n",
        "\n"
      ],
      "metadata": {
        "id": "Xglg1V1D0QJD"
      },
      "execution_count": null,
      "outputs": []
    },
    {
      "cell_type": "markdown",
      "source": [
        "7 задание"
      ],
      "metadata": {
        "id": "Nqf6w-070pRL"
      }
    },
    {
      "cell_type": "code",
      "source": [
        "a = int(input())\n",
        "n = int(input())\n",
        "x = int()\n",
        "z = \"\"\n",
        "while a > 0:\n",
        "    x = str(a % n)\n",
        "    z = x + z\n",
        "    a //= n\n",
        "print(z)\n",
        "\n"
      ],
      "metadata": {
        "id": "YHVoCbD10pbi"
      },
      "execution_count": null,
      "outputs": []
    }
  ]
}